{
 "cells": [
  {
   "cell_type": "code",
   "execution_count": 2,
   "metadata": {},
   "outputs": [
    {
     "name": "stdout",
     "output_type": "stream",
     "text": [
      "Loaded the topology from ./airtel.gml\n",
      "\n",
      "--------------------    Start     --------------------\n",
      "\n",
      "Use pl_rank Solver (Type = heuristic)...\n",
      "\n",
      "dataset/p_net\\airtel-cpu_[50-100]-max_cpu_None-gpu_[50-100]-max_gpu_None-rom_[50-100]-max_rom_None-bw_[50-100]-max_bw_None\n",
      "Loaded the topology from ./airtel.gml\n",
      "*** Generate Physical Network from setting\n",
      "Create VNR Simulator from setting\n",
      "Save config in save/pl_rank\\DESKTOP-1HIQUP8-20231127T231207\\config.yaml\n",
      "temp save record in save/pl_rank\\DESKTOP-1HIQUP8-20231127T231207\\records\\temp-0.csv\n",
      "\n",
      "\n",
      "*** Generate virtual networks with seed None\n"
     ]
    },
    {
     "name": "stderr",
     "output_type": "stream",
     "text": [
      "Running with pl_rank in epoch 0: 100%|██████████| 1000/1000 [01:26<00:00, 11.58it/s, ac=0.20, r2c=0.72, inservice=00008]"
     ]
    },
    {
     "name": "stdout",
     "output_type": "stream",
     "text": [
      "{'acceptance_rate': 0.2,\n",
      " 'avg_r2c_ratio': 0.1545341854174003,\n",
      " 'avg_reward': 0,\n",
      " 'clock_running_time': 85.88587164878845,\n",
      " 'early_rejection_count': 0,\n",
      " 'long_term_avg_cost': 1.567046109703283,\n",
      " 'long_term_avg_revenue': 1.1322687475698219,\n",
      " 'long_term_avg_time_revenue': 1154.8812564091727,\n",
      " 'long_term_r2c_ratio': 0.7225497326203212,\n",
      " 'long_term_time_r2c_ratio': 0.7129925598152661,\n",
      " 'long_term_weighted_avg_time_revenue': 2.2871500039789945,\n",
      " 'max_inservice_count': 11,\n",
      " 'min_p_net_available_resource': 1644,\n",
      " 'min_p_net_link_available_resource': 576,\n",
      " 'min_p_net_node_available_resource': 814,\n",
      " 'p_net_dataset_dir': 'dataset/p_net\\\\airtel-cpu_[50-100]-max_cpu_None-gpu_[50-100]-max_gpu_None-rom_[50-100]-max_rom_None-bw_[50-100]-max_bw_None',\n",
      " 'place_failure_count': 649,\n",
      " 'route_failure_count': 151,\n",
      " 'run_id': 'DESKTOP-1HIQUP8-20231127T231207',\n",
      " 'seed': None,\n",
      " 'solver_name': 'pl_rank',\n",
      " 'start_run_time': '20231127T231219',\n",
      " 'success_count': 200,\n",
      " 'total_cost': 38958.33333333332,\n",
      " 'total_revenue': 28149.33333333334,\n",
      " 'total_simulation_time': 24861.0,\n",
      " 'total_time_cost': 40269007.7481699,\n",
      " 'total_time_revenue': 28711502.915588442,\n",
      " 'v_nets_dataset_dir': 'dataset/v_nets\\\\1000-[2-10]-path-1000-0.04-cpu_[0-50]-gpu_[0-50]-rom_[0-50]-bw_[0-50]'}\n",
      "save records to save/pl_rank\\DESKTOP-1HIQUP8-20231127T231207\\records\\pl_rank-DESKTOP-1HIQUP8-20231127T231207-20231127T231219.csv\n",
      "save summary to save/global_summary.csv\n",
      "\n",
      "--------------------   Complete   --------------------\n",
      "\n"
     ]
    },
    {
     "name": "stderr",
     "output_type": "stream",
     "text": [
      "\n"
     ]
    }
   ],
   "source": [
    "import virne\n",
    "from virne.base import BasicScenario\n",
    "from virne import Config, REGISTRY, Generator, update_simulation_setting\n",
    "\n",
    "\n",
    "def run(config):\n",
    "    print(f\"\\n{'-' * 20}    Start     {'-' * 20}\\n\")\n",
    "    solver_info = REGISTRY.get(config.solver_name)\n",
    "    Env, Solver = solver_info['env'], solver_info['solver']\n",
    "    print(f'Use {config.solver_name} Solver (Type = {solver_info[\"type\"]})...\\n')\n",
    "\n",
    "    scenario = BasicScenario.from_config(Env, Solver, config)\n",
    "    scenario.run()\n",
    "\n",
    "    print(f\"\\n{'-' * 20}   Complete   {'-' * 20}\\n\")\n",
    "\n",
    "\n",
    "if __name__ == '__main__':\n",
    "    config = Config(\n",
    "        solver_name='pl_rank',\n",
    "        p_net_setting_path='./p_net_setting.yaml',\n",
    "        v_sim_setting_path='./v_sim_setting.yaml',\n",
    "    )\n",
    "    Generator.generate_dataset(config, p_net=True, v_nets=False, save=False)\n",
    "    run(config)"
   ]
  }
 ],
 "metadata": {
  "interpreter": {
   "hash": "afb734500600fd355917ca529030176ea0ca205570884b88f2f6f7d791fd3fbe"
  },
  "kernelspec": {
   "display_name": "Python 3.10.4 64-bit",
   "language": "python",
   "name": "python3"
  },
  "language_info": {
   "codemirror_mode": {
    "name": "ipython",
    "version": 3
   },
   "file_extension": ".py",
   "mimetype": "text/x-python",
   "name": "python",
   "nbconvert_exporter": "python",
   "pygments_lexer": "ipython3",
   "version": "3.10.4"
  },
  "orig_nbformat": 4
 },
 "nbformat": 4,
 "nbformat_minor": 2
}
